{
 "cells": [
  {
   "cell_type": "markdown",
   "metadata": {},
   "source": [
    "### Import libraries"
   ]
  },
  {
   "cell_type": "code",
   "execution_count": 1,
   "metadata": {},
   "outputs": [],
   "source": [
    "import pandas as pd\n",
    "import numpy as np\n",
    "from sklearn.preprocessing import StandardScaler\n",
    "from sklearn.metrics import confusion_matrix\n",
    "from sklearn.metrics import plot_confusion_matrix\n",
    "\n",
    "from sklearn.preprocessing import OneHotEncoder\n",
    "from sklearn.compose import ColumnTransformer\n",
    "\n",
    "from sklearn.model_selection import StratifiedKFold\n",
    "from sklearn.model_selection import train_test_split\n",
    "\n",
    "from imblearn.pipeline import Pipeline \n",
    "\n",
    "from sklearn.model_selection import cross_validate\n",
    "from sklearn.metrics import make_scorer\n",
    "from sklearn.metrics import fbeta_score, matthews_corrcoef\n",
    "from imblearn.metrics import geometric_mean_score\n",
    "\n",
    "from sklearn.ensemble import RandomForestClassifier\n",
    "\n",
    "#Sampling methods\n",
    "from imblearn.over_sampling import SMOTE, ADASYN\n",
    "from imblearn.under_sampling import NeighbourhoodCleaningRule,OneSidedSelection\n",
    "from imblearn.combine import SMOTETomek ,SMOTEENN"
   ]
  },
  {
   "cell_type": "markdown",
   "metadata": {},
   "source": [
    "### Evaluation metrics to apply:\n",
    "\n",
    "\n",
    "<strong>1. Accuracy:</strong>\n",
    "\n",
    "$\\frac{TP+TN}{TP + FP + FN + TN}$\n",
    "\n",
    "<strong>2. Precision:</strong> \n",
    "\n",
    "$\\frac{TP}{TP + FP}$\n",
    "\n",
    "<strong>3. Recall:</strong> \n",
    "\n",
    "$\\frac{TP}{TP + FN}$\n",
    "\n",
    "<strong>4. F1 score:</strong> \n",
    "\n",
    "$2\\times\\frac{precision\\times recall}{precision+recall}$\n",
    "\n",
    "<strong>5. Geometric mean:</strong> \n",
    "\n",
    "$\\sqrt{\\frac{TP}{TP + FN}\\times\\frac{TN}{TN + FP}}$\n",
    "\n",
    "<strong>6. Matthews correlation coefficient:</strong> \n",
    "\n",
    "$\\frac{TP\\times TN-FP\\times FN}{\\sqrt{(TP+FP)(TP+FN)(TN+FP)(TN+FN)}}$"
   ]
  },
  {
   "cell_type": "code",
   "execution_count": 2,
   "metadata": {},
   "outputs": [],
   "source": [
    "data=pd.read_csv(r'bank-additional\\bank-additional\\bank-additional-full.csv',sep=\";\")\n",
    "data.y.value_counts()\n",
    "train, test = train_test_split(data, test_size=0.2, random_state=0, stratify=data[['y']])\n",
    "#As a suggestion in https://archive.ics.uci.edu/ml/datasets/bank+marketing, the column \"duration\" is dropped.\n",
    "train=train.drop(columns='duration')\n",
    "test=test.drop(columns='duration')\n",
    "\n",
    "train_x=train.iloc[:,0:-1]\n",
    "train_y=pd.DataFrame(train['y'])\n",
    "train_y.y.replace('no',0,inplace=True)\n",
    "train_y.y.replace('yes',1,inplace=True)\n",
    "\n",
    "test_x=test.iloc[:,0:-1]\n",
    "test_y=pd.DataFrame(test['y'])\n",
    "test_y.y.replace('no',0,inplace=True)\n",
    "test_y.y.replace('yes',1,inplace=True)\n",
    "\n",
    "numerical_ix = train_x.select_dtypes(include=['int64', 'float64']).columns\n",
    "categorical_ix = train_x.select_dtypes(include=['object', 'bool']).columns\n",
    "\n",
    "kfold = StratifiedKFold(n_splits=10, shuffle=True, random_state=100)\n",
    "\n",
    "scoring = {\"Acc\":\"accuracy\",\n",
    "           'F1': 'f1', \n",
    "           'Prec': 'precision',\n",
    "           'Recall':'recall',\n",
    "           'MC':make_scorer(matthews_corrcoef),\n",
    "          'GM':make_scorer(geometric_mean_score)}\n",
    "rf=RandomForestClassifier(random_state=0)"
   ]
  },
  {
   "cell_type": "markdown",
   "metadata": {},
   "source": [
    "### 1. Classification with imbalanced data"
   ]
  },
  {
   "cell_type": "code",
   "execution_count": 3,
   "metadata": {},
   "outputs": [],
   "source": [
    "t0 = [('cat', OneHotEncoder(handle_unknown = \"ignore\"), categorical_ix)]\n",
    "col_transform0 = ColumnTransformer(transformers=t0)\n",
    "\n",
    "pipeline = Pipeline(steps=[('prep', col_transform0),('m',rf)])\n",
    "cv_results_none=cross_validate(pipeline, train_x, train_y.values.ravel(), scoring=scoring, cv=kfold)"
   ]
  },
  {
   "cell_type": "code",
   "execution_count": 4,
   "metadata": {},
   "outputs": [
    {
     "data": {
      "application/javascript": [
       "\n",
       "        if (window._pyforest_update_imports_cell) { window._pyforest_update_imports_cell('import matplotlib.pyplot as plt'); }\n",
       "    "
      ],
      "text/plain": [
       "<IPython.core.display.Javascript object>"
      ]
     },
     "metadata": {},
     "output_type": "display_data"
    },
    {
     "data": {
      "image/png": "[encoded data removed]",
      "text/plain": [
       "<Figure size 432x288 with 2 Axes>"
      ]
     },
     "metadata": {
      "needs_background": "light"
     },
     "output_type": "display_data"
    }
   ],
   "source": [
    "pipeline.fit(train_x,train_y.values.ravel())\n",
    "predict_y=pipeline.predict(test_x)\n",
    "plot_confusion_matrix(pipeline, test_x,test_y,display_labels=[\"No\",\"Yes\"], cmap=plt.cm.Blues) ; "
   ]
  },
  {
   "cell_type": "code",
   "execution_count": 5,
   "metadata": {},
   "outputs": [
    {
     "data": {
      "text/html": [
       "<div>\n",
       "<style scoped>\n",
       "    .dataframe tbody tr th:only-of-type {\n",
       "        vertical-align: middle;\n",
       "    }\n",
       "\n",
       "    .dataframe tbody tr th {\n",
       "        vertical-align: top;\n",
       "    }\n",
       "\n",
       "    .dataframe thead th {\n",
       "        text-align: right;\n",
       "    }\n",
       "</style>\n",
       "<table border=\"1\" class=\"dataframe\">\n",
       "  <thead>\n",
       "    <tr style=\"text-align: right;\">\n",
       "      <th></th>\n",
       "      <th>Acc</th>\n",
       "      <th>F1</th>\n",
       "      <th>Prec</th>\n",
       "      <th>Recall</th>\n",
       "      <th>MC</th>\n",
       "      <th>GM</th>\n",
       "    </tr>\n",
       "  </thead>\n",
       "  <tbody>\n",
       "    <tr>\n",
       "      <th>No sampling</th>\n",
       "      <td>0.886829</td>\n",
       "      <td>0.334538</td>\n",
       "      <td>0.495452</td>\n",
       "      <td>0.252693</td>\n",
       "      <td>0.29887</td>\n",
       "      <td>0.4941</td>\n",
       "    </tr>\n",
       "  </tbody>\n",
       "</table>\n",
       "</div>"
      ],
      "text/plain": [
       "                  Acc        F1      Prec    Recall       MC      GM\n",
       "No sampling  0.886829  0.334538  0.495452  0.252693  0.29887  0.4941"
      ]
     },
     "execution_count": 5,
     "metadata": {},
     "output_type": "execute_result"
    }
   ],
   "source": [
    "results = pd.DataFrame(columns=scoring.keys())\n",
    "results.loc['No sampling']=  [np.mean(cv_results_none['test_{}'.format(score)]) for score in scoring.keys()] \n",
    "results "
   ]
  },
  {
   "cell_type": "markdown",
   "metadata": {},
   "source": [
    "### 2. Synthetic Minority Oversampling Technique (SMOTE)"
   ]
  },
  {
   "cell_type": "code",
   "execution_count": 6,
   "metadata": {},
   "outputs": [
    {
     "data": {
      "text/html": [
       "<div>\n",
       "<style scoped>\n",
       "    .dataframe tbody tr th:only-of-type {\n",
       "        vertical-align: middle;\n",
       "    }\n",
       "\n",
       "    .dataframe tbody tr th {\n",
       "        vertical-align: top;\n",
       "    }\n",
       "\n",
       "    .dataframe thead th {\n",
       "        text-align: right;\n",
       "    }\n",
       "</style>\n",
       "<table border=\"1\" class=\"dataframe\">\n",
       "  <thead>\n",
       "    <tr style=\"text-align: right;\">\n",
       "      <th></th>\n",
       "      <th>Acc</th>\n",
       "      <th>F1</th>\n",
       "      <th>Prec</th>\n",
       "      <th>Recall</th>\n",
       "      <th>MC</th>\n",
       "      <th>GM</th>\n",
       "    </tr>\n",
       "  </thead>\n",
       "  <tbody>\n",
       "    <tr>\n",
       "      <th>SMOTE</th>\n",
       "      <td>0.887375</td>\n",
       "      <td>0.42263</td>\n",
       "      <td>0.500287</td>\n",
       "      <td>0.366111</td>\n",
       "      <td>0.367421</td>\n",
       "      <td>0.590684</td>\n",
       "    </tr>\n",
       "  </tbody>\n",
       "</table>\n",
       "</div>"
      ],
      "text/plain": [
       "            Acc       F1      Prec    Recall        MC        GM\n",
       "SMOTE  0.887375  0.42263  0.500287  0.366111  0.367421  0.590684"
      ]
     },
     "execution_count": 6,
     "metadata": {},
     "output_type": "execute_result"
    }
   ],
   "source": [
    "t = [('cat', OneHotEncoder(handle_unknown = \"ignore\"), categorical_ix), ('num', StandardScaler(), numerical_ix)]\n",
    "col_transform = ColumnTransformer(transformers=t)\n",
    "\n",
    "pipeline = Pipeline(steps=[('prep', col_transform),('imbalance',SMOTE()) ,('m',rf)])\n",
    "cv_results_smote=cross_validate(pipeline, train_x, train_y.values.ravel(), scoring=scoring, cv=kfold)\n",
    "\n",
    "results = pd.DataFrame(columns=scoring.keys())\n",
    "results.loc['SMOTE']=  [np.mean(cv_results_smote['test_{}'.format(score)]) for score in scoring.keys()] \n",
    "results "
   ]
  },
  {
   "cell_type": "code",
   "execution_count": 7,
   "metadata": {},
   "outputs": [
    {
     "data": {
      "application/javascript": [
       "\n",
       "        if (window._pyforest_update_imports_cell) { window._pyforest_update_imports_cell('import matplotlib.pyplot as plt'); }\n",
       "    "
      ],
      "text/plain": [
       "<IPython.core.display.Javascript object>"
      ]
     },
     "metadata": {},
     "output_type": "display_data"
    },
    {
     "data": {
      "image/png": "[encoded data removed]",
      "text/plain": [
       "<Figure size 432x288 with 2 Axes>"
      ]
     },
     "metadata": {
      "needs_background": "light"
     },
     "output_type": "display_data"
    }
   ],
   "source": [
    "pipeline.fit(train_x,train_y.values.ravel())\n",
    "predict_y=pipeline.predict(test_x)\n",
    "plot_confusion_matrix(pipeline, test_x,test_y,display_labels=[\"No\",\"Yes\"], cmap=plt.cm.Blues,normalize='true'); "
   ]
  },
  {
   "cell_type": "markdown",
   "metadata": {},
   "source": [
    "### 3. Adaptive Synthetic (ADASYN)"
   ]
  },
  {
   "cell_type": "code",
   "execution_count": 8,
   "metadata": {},
   "outputs": [
    {
     "data": {
      "text/html": [
       "<div>\n",
       "<style scoped>\n",
       "    .dataframe tbody tr th:only-of-type {\n",
       "        vertical-align: middle;\n",
       "    }\n",
       "\n",
       "    .dataframe tbody tr th {\n",
       "        vertical-align: top;\n",
       "    }\n",
       "\n",
       "    .dataframe thead th {\n",
       "        text-align: right;\n",
       "    }\n",
       "</style>\n",
       "<table border=\"1\" class=\"dataframe\">\n",
       "  <thead>\n",
       "    <tr style=\"text-align: right;\">\n",
       "      <th></th>\n",
       "      <th>Acc</th>\n",
       "      <th>F1</th>\n",
       "      <th>Prec</th>\n",
       "      <th>Recall</th>\n",
       "      <th>MC</th>\n",
       "      <th>GM</th>\n",
       "    </tr>\n",
       "  </thead>\n",
       "  <tbody>\n",
       "    <tr>\n",
       "      <th>ADASYN</th>\n",
       "      <td>0.886009</td>\n",
       "      <td>0.411002</td>\n",
       "      <td>0.491798</td>\n",
       "      <td>0.353182</td>\n",
       "      <td>0.355732</td>\n",
       "      <td>0.580149</td>\n",
       "    </tr>\n",
       "  </tbody>\n",
       "</table>\n",
       "</div>"
      ],
      "text/plain": [
       "             Acc        F1      Prec    Recall        MC        GM\n",
       "ADASYN  0.886009  0.411002  0.491798  0.353182  0.355732  0.580149"
      ]
     },
     "execution_count": 8,
     "metadata": {},
     "output_type": "execute_result"
    }
   ],
   "source": [
    "pipeline = Pipeline(steps=[('prep', col_transform),('imbalance',ADASYN()) ,('m',rf)])\n",
    "cv_results_adasyn=cross_validate(pipeline, train_x, train_y.values.ravel(), scoring=scoring, cv=kfold)\n",
    "\n",
    "results = pd.DataFrame(columns=scoring.keys())\n",
    "results.loc['ADASYN']=  [np.mean(cv_results_adasyn['test_{}'.format(score)]) for score in scoring.keys()] \n",
    "results "
   ]
  },
  {
   "cell_type": "code",
   "execution_count": 9,
   "metadata": {},
   "outputs": [
    {
     "data": {
      "application/javascript": [
       "\n",
       "        if (window._pyforest_update_imports_cell) { window._pyforest_update_imports_cell('import matplotlib.pyplot as plt'); }\n",
       "    "
      ],
      "text/plain": [
       "<IPython.core.display.Javascript object>"
      ]
     },
     "metadata": {},
     "output_type": "display_data"
    },
    {
     "data": {
      "image/png": "[encoded data removed]",
      "text/plain": [
       "<Figure size 432x288 with 2 Axes>"
      ]
     },
     "metadata": {
      "needs_background": "light"
     },
     "output_type": "display_data"
    }
   ],
   "source": [
    "pipeline.fit(train_x,train_y.values.ravel())\n",
    "predict_y=pipeline.predict(test_x)\n",
    "plot_confusion_matrix(pipeline, test_x,test_y,display_labels=[\"No\",\"Yes\"], cmap=plt.cm.Blues,normalize='true');"
   ]
  },
  {
   "cell_type": "markdown",
   "metadata": {},
   "source": [
    "### 4. NeighbourhoodCleaningRule"
   ]
  },
  {
   "cell_type": "code",
   "execution_count": 10,
   "metadata": {},
   "outputs": [
    {
     "data": {
      "text/html": [
       "<div>\n",
       "<style scoped>\n",
       "    .dataframe tbody tr th:only-of-type {\n",
       "        vertical-align: middle;\n",
       "    }\n",
       "\n",
       "    .dataframe tbody tr th {\n",
       "        vertical-align: top;\n",
       "    }\n",
       "\n",
       "    .dataframe thead th {\n",
       "        text-align: right;\n",
       "    }\n",
       "</style>\n",
       "<table border=\"1\" class=\"dataframe\">\n",
       "  <thead>\n",
       "    <tr style=\"text-align: right;\">\n",
       "      <th></th>\n",
       "      <th>Acc</th>\n",
       "      <th>F1</th>\n",
       "      <th>Prec</th>\n",
       "      <th>Recall</th>\n",
       "      <th>MC</th>\n",
       "      <th>GM</th>\n",
       "    </tr>\n",
       "  </thead>\n",
       "  <tbody>\n",
       "    <tr>\n",
       "      <th>NCR</th>\n",
       "      <td>0.873687</td>\n",
       "      <td>0.477718</td>\n",
       "      <td>0.447251</td>\n",
       "      <td>0.512931</td>\n",
       "      <td>0.407581</td>\n",
       "      <td>0.68667</td>\n",
       "    </tr>\n",
       "  </tbody>\n",
       "</table>\n",
       "</div>"
      ],
      "text/plain": [
       "          Acc        F1      Prec    Recall        MC       GM\n",
       "NCR  0.873687  0.477718  0.447251  0.512931  0.407581  0.68667"
      ]
     },
     "execution_count": 10,
     "metadata": {},
     "output_type": "execute_result"
    }
   ],
   "source": [
    "pipeline = Pipeline(steps=[('prep', col_transform),('imbalance',NeighbourhoodCleaningRule()) ,('m',rf)])\n",
    "cv_results_ncr=cross_validate(pipeline, train_x, train_y.values.ravel(), scoring=scoring, cv=kfold)\n",
    "\n",
    "results = pd.DataFrame(columns=scoring.keys())\n",
    "results.loc['NCR']=  [np.mean(cv_results_ncr['test_{}'.format(score)]) for score in scoring.keys()] \n",
    "results "
   ]
  },
  {
   "cell_type": "code",
   "execution_count": 11,
   "metadata": {},
   "outputs": [
    {
     "data": {
      "application/javascript": [
       "\n",
       "        if (window._pyforest_update_imports_cell) { window._pyforest_update_imports_cell('import matplotlib.pyplot as plt'); }\n",
       "    "
      ],
      "text/plain": [
       "<IPython.core.display.Javascript object>"
      ]
     },
     "metadata": {},
     "output_type": "display_data"
    },
    {
     "data": {
      "image/png": "[encoded data removed]",
      "text/plain": [
       "<Figure size 432x288 with 2 Axes>"
      ]
     },
     "metadata": {
      "needs_background": "light"
     },
     "output_type": "display_data"
    }
   ],
   "source": [
    "pipeline.fit(train_x,train_y.values.ravel())\n",
    "predict_y=pipeline.predict(test_x)\n",
    "plot_confusion_matrix(pipeline, test_x,test_y,display_labels=[\"No\",\"Yes\"], cmap=plt.cm.Blues,normalize='true');"
   ]
  },
  {
   "cell_type": "markdown",
   "metadata": {},
   "source": [
    "### 5. OneSidedSelection"
   ]
  },
  {
   "cell_type": "code",
   "execution_count": 12,
   "metadata": {},
   "outputs": [
    {
     "data": {
      "text/html": [
       "<div>\n",
       "<style scoped>\n",
       "    .dataframe tbody tr th:only-of-type {\n",
       "        vertical-align: middle;\n",
       "    }\n",
       "\n",
       "    .dataframe tbody tr th {\n",
       "        vertical-align: top;\n",
       "    }\n",
       "\n",
       "    .dataframe thead th {\n",
       "        text-align: right;\n",
       "    }\n",
       "</style>\n",
       "<table border=\"1\" class=\"dataframe\">\n",
       "  <thead>\n",
       "    <tr style=\"text-align: right;\">\n",
       "      <th></th>\n",
       "      <th>Acc</th>\n",
       "      <th>F1</th>\n",
       "      <th>Prec</th>\n",
       "      <th>Recall</th>\n",
       "      <th>MC</th>\n",
       "      <th>GM</th>\n",
       "    </tr>\n",
       "  </thead>\n",
       "  <tbody>\n",
       "    <tr>\n",
       "      <th>OSS</th>\n",
       "      <td>0.891138</td>\n",
       "      <td>0.424114</td>\n",
       "      <td>0.525346</td>\n",
       "      <td>0.355873</td>\n",
       "      <td>0.375051</td>\n",
       "      <td>0.584104</td>\n",
       "    </tr>\n",
       "  </tbody>\n",
       "</table>\n",
       "</div>"
      ],
      "text/plain": [
       "          Acc        F1      Prec    Recall        MC        GM\n",
       "OSS  0.891138  0.424114  0.525346  0.355873  0.375051  0.584104"
      ]
     },
     "execution_count": 12,
     "metadata": {},
     "output_type": "execute_result"
    }
   ],
   "source": [
    "pipeline = Pipeline(steps=[('prep', col_transform),('imbalance',OneSidedSelection()) ,('m',rf)])\n",
    "cv_results_oss=cross_validate(pipeline, train_x, train_y.values.ravel(), scoring=scoring, cv=kfold)\n",
    "\n",
    "results = pd.DataFrame(columns=scoring.keys())\n",
    "results.loc['OSS']=  [np.mean(cv_results_oss['test_{}'.format(score)]) for score in scoring.keys()] \n",
    "results"
   ]
  },
  {
   "cell_type": "code",
   "execution_count": 13,
   "metadata": {},
   "outputs": [
    {
     "data": {
      "application/javascript": [
       "\n",
       "        if (window._pyforest_update_imports_cell) { window._pyforest_update_imports_cell('import matplotlib.pyplot as plt'); }\n",
       "    "
      ],
      "text/plain": [
       "<IPython.core.display.Javascript object>"
      ]
     },
     "metadata": {},
     "output_type": "display_data"
    },
    {
     "data": {
      "image/png": "[encoded data removed]",
      "text/plain": [
       "<Figure size 432x288 with 2 Axes>"
      ]
     },
     "metadata": {
      "needs_background": "light"
     },
     "output_type": "display_data"
    }
   ],
   "source": [
    "pipeline.fit(train_x,train_y.values.ravel())\n",
    "predict_y=pipeline.predict(test_x)\n",
    "plot_confusion_matrix(pipeline, test_x,test_y,display_labels=[\"No\",\"Yes\"], cmap=plt.cm.Blues,normalize='true');"
   ]
  },
  {
   "cell_type": "markdown",
   "metadata": {},
   "source": [
    "### 6. SMOTEENN"
   ]
  },
  {
   "cell_type": "code",
   "execution_count": 14,
   "metadata": {},
   "outputs": [
    {
     "data": {
      "text/html": [
       "<div>\n",
       "<style scoped>\n",
       "    .dataframe tbody tr th:only-of-type {\n",
       "        vertical-align: middle;\n",
       "    }\n",
       "\n",
       "    .dataframe tbody tr th {\n",
       "        vertical-align: top;\n",
       "    }\n",
       "\n",
       "    .dataframe thead th {\n",
       "        text-align: right;\n",
       "    }\n",
       "</style>\n",
       "<table border=\"1\" class=\"dataframe\">\n",
       "  <thead>\n",
       "    <tr style=\"text-align: right;\">\n",
       "      <th></th>\n",
       "      <th>Acc</th>\n",
       "      <th>F1</th>\n",
       "      <th>Prec</th>\n",
       "      <th>Recall</th>\n",
       "      <th>MC</th>\n",
       "      <th>GM</th>\n",
       "    </tr>\n",
       "  </thead>\n",
       "  <tbody>\n",
       "    <tr>\n",
       "      <th>SMEENN</th>\n",
       "      <td>0.854932</td>\n",
       "      <td>0.479357</td>\n",
       "      <td>0.402411</td>\n",
       "      <td>0.592939</td>\n",
       "      <td>0.408831</td>\n",
       "      <td>0.72561</td>\n",
       "    </tr>\n",
       "  </tbody>\n",
       "</table>\n",
       "</div>"
      ],
      "text/plain": [
       "             Acc        F1      Prec    Recall        MC       GM\n",
       "SMEENN  0.854932  0.479357  0.402411  0.592939  0.408831  0.72561"
      ]
     },
     "execution_count": 14,
     "metadata": {},
     "output_type": "execute_result"
    }
   ],
   "source": [
    "pipeline = Pipeline(steps=[('prep', col_transform),('imbalance',SMOTEENN()) ,('m',rf)])\n",
    "cv_results_smeenn=cross_validate(pipeline, train_x, train_y.values.ravel(), scoring=scoring, cv=kfold)\n",
    "\n",
    "results = pd.DataFrame(columns=scoring.keys())\n",
    "results.loc['SMEENN']=  [np.mean(cv_results_smeenn['test_{}'.format(score)]) for score in scoring.keys()] \n",
    "results"
   ]
  },
  {
   "cell_type": "code",
   "execution_count": 15,
   "metadata": {},
   "outputs": [
    {
     "data": {
      "application/javascript": [
       "\n",
       "        if (window._pyforest_update_imports_cell) { window._pyforest_update_imports_cell('import matplotlib.pyplot as plt'); }\n",
       "    "
      ],
      "text/plain": [
       "<IPython.core.display.Javascript object>"
      ]
     },
     "metadata": {},
     "output_type": "display_data"
    },
    {
     "data": {
      "image/png": "[encoded data removed]",
      "text/plain": [
       "<Figure size 432x288 with 2 Axes>"
      ]
     },
     "metadata": {
      "needs_background": "light"
     },
     "output_type": "display_data"
    }
   ],
   "source": [
    "pipeline.fit(train_x,train_y.values.ravel())\n",
    "predict_y=pipeline.predict(test_x)\n",
    "plot_confusion_matrix(pipeline, test_x,test_y,display_labels=[\"No\",\"Yes\"], cmap=plt.cm.Blues,normalize='true');"
   ]
  },
  {
   "cell_type": "markdown",
   "metadata": {},
   "source": [
    "### 7. Smote + Tomek"
   ]
  },
  {
   "cell_type": "code",
   "execution_count": 16,
   "metadata": {},
   "outputs": [
    {
     "data": {
      "text/html": [
       "<div>\n",
       "<style scoped>\n",
       "    .dataframe tbody tr th:only-of-type {\n",
       "        vertical-align: middle;\n",
       "    }\n",
       "\n",
       "    .dataframe tbody tr th {\n",
       "        vertical-align: top;\n",
       "    }\n",
       "\n",
       "    .dataframe thead th {\n",
       "        text-align: right;\n",
       "    }\n",
       "</style>\n",
       "<table border=\"1\" class=\"dataframe\">\n",
       "  <thead>\n",
       "    <tr style=\"text-align: right;\">\n",
       "      <th></th>\n",
       "      <th>Acc</th>\n",
       "      <th>F1</th>\n",
       "      <th>Prec</th>\n",
       "      <th>Recall</th>\n",
       "      <th>MC</th>\n",
       "      <th>GM</th>\n",
       "    </tr>\n",
       "  </thead>\n",
       "  <tbody>\n",
       "    <tr>\n",
       "      <th>SMT</th>\n",
       "      <td>0.888437</td>\n",
       "      <td>0.423928</td>\n",
       "      <td>0.507009</td>\n",
       "      <td>0.364496</td>\n",
       "      <td>0.370177</td>\n",
       "      <td>0.589845</td>\n",
       "    </tr>\n",
       "  </tbody>\n",
       "</table>\n",
       "</div>"
      ],
      "text/plain": [
       "          Acc        F1      Prec    Recall        MC        GM\n",
       "SMT  0.888437  0.423928  0.507009  0.364496  0.370177  0.589845"
      ]
     },
     "execution_count": 16,
     "metadata": {},
     "output_type": "execute_result"
    }
   ],
   "source": [
    "pipeline = Pipeline(steps=[('prep', col_transform),('imbalance',SMOTETomek()) ,('m',rf)])\n",
    "cv_results_smt=cross_validate(pipeline, train_x, train_y.values.ravel(), scoring=scoring, cv=kfold)\n",
    "\n",
    "results = pd.DataFrame(columns=scoring.keys())\n",
    "results.loc['SMT']=  [np.mean(cv_results_smt['test_{}'.format(score)]) for score in scoring.keys()] \n",
    "results"
   ]
  },
  {
   "cell_type": "code",
   "execution_count": 17,
   "metadata": {},
   "outputs": [
    {
     "data": {
      "application/javascript": [
       "\n",
       "        if (window._pyforest_update_imports_cell) { window._pyforest_update_imports_cell('import matplotlib.pyplot as plt'); }\n",
       "    "
      ],
      "text/plain": [
       "<IPython.core.display.Javascript object>"
      ]
     },
     "metadata": {},
     "output_type": "display_data"
    },
    {
     "data": {
      "image/png": "[encoded data removed]",
      "text/plain": [
       "<Figure size 432x288 with 2 Axes>"
      ]
     },
     "metadata": {
      "needs_background": "light"
     },
     "output_type": "display_data"
    }
   ],
   "source": [
    "pipeline.fit(train_x,train_y.values.ravel())\n",
    "predict_y=pipeline.predict(test_x)\n",
    "plot_confusion_matrix(pipeline, test_x,test_y,display_labels=[\"No\",\"Yes\"], cmap=plt.cm.Blues,normalize='true');"
   ]
  },
  {
   "cell_type": "markdown",
   "metadata": {},
   "source": [
    "### 8. Algorithm modification: Cost Sensitive learning"
   ]
  },
  {
   "cell_type": "code",
   "execution_count": 18,
   "metadata": {},
   "outputs": [
    {
     "data": {
      "text/html": [
       "<div>\n",
       "<style scoped>\n",
       "    .dataframe tbody tr th:only-of-type {\n",
       "        vertical-align: middle;\n",
       "    }\n",
       "\n",
       "    .dataframe tbody tr th {\n",
       "        vertical-align: top;\n",
       "    }\n",
       "\n",
       "    .dataframe thead th {\n",
       "        text-align: right;\n",
       "    }\n",
       "</style>\n",
       "<table border=\"1\" class=\"dataframe\">\n",
       "  <thead>\n",
       "    <tr style=\"text-align: right;\">\n",
       "      <th></th>\n",
       "      <th>Acc</th>\n",
       "      <th>F1</th>\n",
       "      <th>Prec</th>\n",
       "      <th>Recall</th>\n",
       "      <th>MC</th>\n",
       "      <th>GM</th>\n",
       "    </tr>\n",
       "  </thead>\n",
       "  <tbody>\n",
       "    <tr>\n",
       "      <th>cost_sen</th>\n",
       "      <td>0.837481</td>\n",
       "      <td>0.304838</td>\n",
       "      <td>0.294169</td>\n",
       "      <td>0.316542</td>\n",
       "      <td>0.213226</td>\n",
       "      <td>0.534425</td>\n",
       "    </tr>\n",
       "  </tbody>\n",
       "</table>\n",
       "</div>"
      ],
      "text/plain": [
       "               Acc        F1      Prec    Recall        MC        GM\n",
       "cost_sen  0.837481  0.304838  0.294169  0.316542  0.213226  0.534425"
      ]
     },
     "execution_count": 18,
     "metadata": {},
     "output_type": "execute_result"
    }
   ],
   "source": [
    "pipeline = Pipeline(steps=[('prep', col_transform0),('m',RandomForestClassifier(class_weight='balanced'))])\n",
    "cv_results_cost=cross_validate(pipeline, train_x, train_y.values.ravel(), scoring=scoring, cv=kfold)\n",
    "\n",
    "results = pd.DataFrame(columns=scoring.keys())\n",
    "results.loc['cost_sen']=  [np.mean(cv_results_cost['test_{}'.format(score)]) for score in scoring.keys()] \n",
    "results"
   ]
  },
  {
   "cell_type": "code",
   "execution_count": 19,
   "metadata": {},
   "outputs": [
    {
     "data": {
      "application/javascript": [
       "\n",
       "        if (window._pyforest_update_imports_cell) { window._pyforest_update_imports_cell('import matplotlib.pyplot as plt'); }\n",
       "    "
      ],
      "text/plain": [
       "<IPython.core.display.Javascript object>"
      ]
     },
     "metadata": {},
     "output_type": "display_data"
    },
    {
     "data": {
      "image/png": "[encoded data removed]",
      "text/plain": [
       "<Figure size 432x288 with 2 Axes>"
      ]
     },
     "metadata": {
      "needs_background": "light"
     },
     "output_type": "display_data"
    }
   ],
   "source": [
    "pipeline.fit(train_x,train_y.values.ravel())\n",
    "predict_y=pipeline.predict(test_x)\n",
    "plot_confusion_matrix(pipeline, test_x,test_y,display_labels=[\"No\",\"Yes\"], cmap=plt.cm.Blues,normalize='true');"
   ]
  },
  {
   "cell_type": "markdown",
   "metadata": {},
   "source": [
    "### All methods"
   ]
  },
  {
   "cell_type": "code",
   "execution_count": 20,
   "metadata": {},
   "outputs": [
    {
     "data": {
      "text/html": [
       "<div>\n",
       "<style scoped>\n",
       "    .dataframe tbody tr th:only-of-type {\n",
       "        vertical-align: middle;\n",
       "    }\n",
       "\n",
       "    .dataframe tbody tr th {\n",
       "        vertical-align: top;\n",
       "    }\n",
       "\n",
       "    .dataframe thead th {\n",
       "        text-align: right;\n",
       "    }\n",
       "</style>\n",
       "<table border=\"1\" class=\"dataframe\">\n",
       "  <thead>\n",
       "    <tr style=\"text-align: right;\">\n",
       "      <th></th>\n",
       "      <th>Acc</th>\n",
       "      <th>F1</th>\n",
       "      <th>Prec</th>\n",
       "      <th>Recall</th>\n",
       "      <th>MC</th>\n",
       "      <th>GM</th>\n",
       "    </tr>\n",
       "  </thead>\n",
       "  <tbody>\n",
       "    <tr>\n",
       "      <th>No sampling</th>\n",
       "      <td>0.886829</td>\n",
       "      <td>0.334538</td>\n",
       "      <td>0.495452</td>\n",
       "      <td>0.252693</td>\n",
       "      <td>0.298870</td>\n",
       "      <td>0.494100</td>\n",
       "    </tr>\n",
       "    <tr>\n",
       "      <th>smote</th>\n",
       "      <td>0.887375</td>\n",
       "      <td>0.422630</td>\n",
       "      <td>0.500287</td>\n",
       "      <td>0.366111</td>\n",
       "      <td>0.367421</td>\n",
       "      <td>0.590684</td>\n",
       "    </tr>\n",
       "    <tr>\n",
       "      <th>adasyn</th>\n",
       "      <td>0.886009</td>\n",
       "      <td>0.411002</td>\n",
       "      <td>0.491798</td>\n",
       "      <td>0.353182</td>\n",
       "      <td>0.355732</td>\n",
       "      <td>0.580149</td>\n",
       "    </tr>\n",
       "    <tr>\n",
       "      <th>ncr</th>\n",
       "      <td>0.873687</td>\n",
       "      <td>0.477718</td>\n",
       "      <td>0.447251</td>\n",
       "      <td>0.512931</td>\n",
       "      <td>0.407581</td>\n",
       "      <td>0.686670</td>\n",
       "    </tr>\n",
       "    <tr>\n",
       "      <th>oss</th>\n",
       "      <td>0.891138</td>\n",
       "      <td>0.424114</td>\n",
       "      <td>0.525346</td>\n",
       "      <td>0.355873</td>\n",
       "      <td>0.375051</td>\n",
       "      <td>0.584104</td>\n",
       "    </tr>\n",
       "    <tr>\n",
       "      <th>smeenn</th>\n",
       "      <td>0.854932</td>\n",
       "      <td>0.479357</td>\n",
       "      <td>0.402411</td>\n",
       "      <td>0.592939</td>\n",
       "      <td>0.408831</td>\n",
       "      <td>0.725610</td>\n",
       "    </tr>\n",
       "    <tr>\n",
       "      <th>smt</th>\n",
       "      <td>0.888437</td>\n",
       "      <td>0.423928</td>\n",
       "      <td>0.507009</td>\n",
       "      <td>0.364496</td>\n",
       "      <td>0.370177</td>\n",
       "      <td>0.589845</td>\n",
       "    </tr>\n",
       "    <tr>\n",
       "      <th>Cost sensitive</th>\n",
       "      <td>0.837481</td>\n",
       "      <td>0.304838</td>\n",
       "      <td>0.294169</td>\n",
       "      <td>0.316542</td>\n",
       "      <td>0.213226</td>\n",
       "      <td>0.534425</td>\n",
       "    </tr>\n",
       "  </tbody>\n",
       "</table>\n",
       "</div>"
      ],
      "text/plain": [
       "                     Acc        F1      Prec    Recall        MC        GM\n",
       "No sampling     0.886829  0.334538  0.495452  0.252693  0.298870  0.494100\n",
       "smote           0.887375  0.422630  0.500287  0.366111  0.367421  0.590684\n",
       "adasyn          0.886009  0.411002  0.491798  0.353182  0.355732  0.580149\n",
       "ncr             0.873687  0.477718  0.447251  0.512931  0.407581  0.686670\n",
       "oss             0.891138  0.424114  0.525346  0.355873  0.375051  0.584104\n",
       "smeenn          0.854932  0.479357  0.402411  0.592939  0.408831  0.725610\n",
       "smt             0.888437  0.423928  0.507009  0.364496  0.370177  0.589845\n",
       "Cost sensitive  0.837481  0.304838  0.294169  0.316542  0.213226  0.534425"
      ]
     },
     "execution_count": 20,
     "metadata": {},
     "output_type": "execute_result"
    }
   ],
   "source": [
    "cv_result=[cv_results_none,cv_results_smote,cv_results_adasyn,cv_results_ncr,\n",
    "         cv_results_oss,cv_results_smeenn,cv_results_smt,cv_results_cost]\n",
    "\n",
    "methods=[\"No sampling\",\"smote\",\"adasyn\",\"ncr\",\"oss\",\"smeenn\",\"smt\",\"Cost sensitive\"]\n",
    "results = pd.DataFrame(columns=scoring.keys())\n",
    "\n",
    "for i,j in zip(methods,cv_result):\n",
    "    results.loc[i]=  [np.mean(j['test_{}'.format(score)]) for score in scoring.keys()] \n",
    "\n",
    "results "
   ]
  },
  {
   "cell_type": "markdown",
   "metadata": {},
   "source": [
    "## References\n",
    "\n",
    "\n",
    " He, H., Bai, Y., Garcia, E. A., & Li, S. (2008, June). ADASYN: Adaptive synthetic sampling approach for imbalanced learning. In 2008 IEEE international joint conference on neural networks (IEEE world congress on computational intelligence) (pp. 1322-1328). IEEE.\n",
    "\n",
    "<a href=\"https://machinelearningmastery.com/fbeta-measure-for-machine-learning/\">A Gentle Introduction to the Fbeta-Measure for Machine Learning</a> \n",
    "\n",
    " \"Alberto Fernández, Salvador García, Mikel Galar, Ronaldo C. Prati, Bartosz Krawczyk, Francisco Herrera - Learning from Imbalanced Data Sets-Springer International Publishing (2018)\"\n",
    " \n",
    " Batista, G. E., Prati, R. C., & Monard, M. C. (2004). A study of the behavior of several methods for balancing machine learning training data. ACM SIGKDD explorations newsletter, 6(1), 20-29.\n",
    " \n",
    " He, H., Bai, Y., Garcia, E. A., & Li, S. (2008, June). ADASYN: Adaptive synthetic sampling approach for imbalanced learning. In 2008 IEEE international joint conference on neural networks (IEEE world congress on computational intelligence) (pp. 1322-1328). IEEE."
   ]
  }
 ],
 "metadata": {
  "kernelspec": {
   "display_name": "Python 3",
   "language": "python",
   "name": "python3"
  },
  "language_info": {
   "codemirror_mode": {
    "name": "ipython",
    "version": 3
   },
   "file_extension": ".py",
   "mimetype": "text/x-python",
   "name": "python",
   "nbconvert_exporter": "python",
   "pygments_lexer": "ipython3",
   "version": "3.7.6"
  }
 },
 "nbformat": 4,
 "nbformat_minor": 4
}
